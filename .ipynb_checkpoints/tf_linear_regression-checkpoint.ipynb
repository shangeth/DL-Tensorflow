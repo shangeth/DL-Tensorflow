{
 "cells": [
  {
   "cell_type": "markdown",
   "metadata": {},
   "source": [
    "# Linear Regression"
   ]
  },
  {
   "cell_type": "code",
   "execution_count": 20,
   "metadata": {},
   "outputs": [
    {
     "name": "stdout",
     "output_type": "stream",
     "text": [
      "Epoch 0 : Loss = 853656.6374511719\n",
      "Epoch 100 : Loss = 19833.6683537215\n",
      "Epoch 200 : Loss = 5850.08822899498\n",
      "Epoch 300 : Loss = 5848.937732602237\n",
      "Epoch 400 : Loss = 5848.936060357257\n"
     ]
    },
    {
     "data": {
      "image/png": "[encoded data removed]",
      "text/plain": [
       "<Figure size 432x288 with 1 Axes>"
      ]
     },
     "metadata": {},
     "output_type": "display_data"
    }
   ],
   "source": [
    "import tensorflow as tf\n",
    "import os\n",
    "import gzip\n",
    "import shutil\n",
    "import struct\n",
    "import urllib\n",
    "import numpy as np\n",
    "import matplotlib.pyplot as plt\n",
    "%matplotlib inline\n",
    "\n",
    "filename = r'birth_life_2010.txt'\n",
    "text = open(filename, 'r').readlines()[1:]\n",
    "data = [line[:-1].split('\\t') for line in text]\n",
    "births = [float(line[1]) for line in data]\n",
    "lifes = [float(line[2]) for line in data]\n",
    "data = list(zip(births, lifes))\n",
    "n_samples = len(data)\n",
    "data = np.asarray(data, dtype=np.float32)\n",
    "\n",
    "\n",
    "X = tf.placeholder(dtype=tf.float32, name='X')\n",
    "y = tf.placeholder(dtype=tf.float32, name='y')\n",
    "\n",
    "w = tf.Variable(0.0, name='weights')\n",
    "b = tf.Variable(0.0, name='bias')\n",
    "\n",
    "y_pred = X * w + b\n",
    "loss = tf.square(y - y_pred, name='loss')\n",
    "\n",
    "optimizer = tf.train.AdamOptimizer(learning_rate =0.01).minimize(loss)\n",
    "\n",
    "with tf.Session() as s:\n",
    "    s.run(tf.global_variables_initializer())\n",
    "    writer = tf.summary.FileWriter('./linear_reg', s.graph)\n",
    "    for i in range(500):\n",
    "        loss_t = 0\n",
    "        for x1,y1 in data:\n",
    "            _, l = s.run([optimizer, loss], feed_dict={X:x1, y:y1})\n",
    "            loss_t += l\n",
    "        if (i%100 == 0):    \n",
    "            print('Epoch {} : Loss = {}'.format(i,loss_t))\n",
    "    writer.close()\n",
    "    wo,bo = s.run([w,b])\n",
    "\n",
    "X,y = data.T[0], data.T[1]\n",
    "plt.plot(X, y, 'bo', label='Data')\n",
    "plt.plot(X, X*wo+bo,'r',label='Prediction')\n",
    "plt.legend()\n",
    "plt.show()\n",
    "    "
   ]
  },
  {
   "cell_type": "markdown",
   "metadata": {},
   "source": [
    "## Huber Loss"
   ]
  },
  {
   "cell_type": "code",
   "execution_count": 10,
   "metadata": {},
   "outputs": [],
   "source": [
    "def HuberLoss(labels, predictions, delta=14.0):\n",
    "    residual = tf.abs(predictions-labels)\n",
    "#     condition = tf.less(residual, delta)\n",
    "    def f1(): return 0.5 * tf.square(residual)\n",
    "    def f2(): return delta * residual - 0.5 * tf.square(delta)\n",
    "    return tf.cond(residual < delta, f1, f2)"
   ]
  },
  {
   "cell_type": "code",
   "execution_count": null,
   "metadata": {},
   "outputs": [
    {
     "name": "stdout",
     "output_type": "stream",
     "text": [
      "Epoch 0 : Loss = 156352.23376464844\n"
     ]
    }
   ],
   "source": [
    "import tensorflow as tf\n",
    "import os\n",
    "import gzip\n",
    "import shutil\n",
    "import struct\n",
    "import urllib\n",
    "import numpy as np\n",
    "import matplotlib.pyplot as plt\n",
    "%matplotlib inline\n",
    "\n",
    "filename = r'birth_life_2010.txt'\n",
    "text = open(filename, 'r').readlines()[1:]\n",
    "data = [line[:-1].split('\\t') for line in text]\n",
    "births = [float(line[1]) for line in data]\n",
    "lifes = [float(line[2]) for line in data]\n",
    "data = list(zip(births, lifes))\n",
    "n_samples = len(data)\n",
    "data = np.asarray(data, dtype=np.float32)\n",
    "\n",
    "\n",
    "X = tf.placeholder(dtype=tf.float32, name='X')\n",
    "y = tf.placeholder(dtype=tf.float32, name='y')\n",
    "\n",
    "w = tf.Variable(0.0, name='weights')\n",
    "b = tf.Variable(0.0, name='bias')\n",
    "\n",
    "y_pred = X * w + b\n",
    "loss = HuberLoss(y, y_pred)\n",
    "\n",
    "optimizer = tf.train.AdamOptimizer(learning_rate =0.01).minimize(loss)\n",
    "\n",
    "with tf.Session() as s:\n",
    "    s.run(tf.global_variables_initializer())\n",
    "    writer = tf.summary.FileWriter('./linear_reg', s.graph)\n",
    "    for i in range(500):\n",
    "        loss_t = 0\n",
    "        for x1,y1 in data:\n",
    "            _, l = s.run([optimizer, loss], feed_dict={X:x1, y:y1})\n",
    "            loss_t += l\n",
    "        if (i%100 == 0):    \n",
    "            print('Epoch {} : Loss = {}'.format(i,loss_t))\n",
    "    writer.close()\n",
    "    wo,bo = s.run([w,b])\n",
    "\n",
    "X,y = data.T[0], data.T[1]\n",
    "plt.plot(X, y, 'bo', label='Data')\n",
    "plt.plot(X, X*wo+bo,'r',label='Prediction')\n",
    "plt.legend()\n",
    "plt.show()"
   ]
  },
  {
   "cell_type": "code",
   "execution_count": null,
   "metadata": {},
   "outputs": [],
   "source": []
  }
 ],
 "metadata": {
  "kernelspec": {
   "display_name": "Python 3",
   "language": "python",
   "name": "python3"
  },
  "language_info": {
   "codemirror_mode": {
    "name": "ipython",
    "version": 3
   },
   "file_extension": ".py",
   "mimetype": "text/x-python",
   "name": "python",
   "nbconvert_exporter": "python",
   "pygments_lexer": "ipython3",
   "version": "3.6.5"
  }
 },
 "nbformat": 4,
 "nbformat_minor": 2
}
