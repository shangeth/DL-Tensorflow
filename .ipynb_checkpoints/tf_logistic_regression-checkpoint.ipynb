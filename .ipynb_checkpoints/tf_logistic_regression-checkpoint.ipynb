{
 "cells": [
  {
   "cell_type": "code",
   "execution_count": 19,
   "metadata": {},
   "outputs": [
    {
     "name": "stdout",
     "output_type": "stream",
     "text": [
      "Extracting data/mnist/train-images-idx3-ubyte.gz\n",
      "Extracting data/mnist/train-labels-idx1-ubyte.gz\n",
      "Extracting data/mnist/t10k-images-idx3-ubyte.gz\n",
      "Extracting data/mnist/t10k-labels-idx1-ubyte.gz\n"
     ]
    }
   ],
   "source": [
    "import tensorflow as tf\n",
    "from tensorflow.examples.tutorials.mnist import input_data\n",
    "\n",
    "learning_rate = 0.1\n",
    "batch_size = 128\n",
    "n_epochs = 40\n",
    "\n",
    "mnist = input_data.read_data_sets('data/mnist', one_hot=True) "
   ]
  },
  {
   "cell_type": "code",
   "execution_count": 20,
   "metadata": {},
   "outputs": [
    {
     "name": "stdout",
     "output_type": "stream",
     "text": [
      "Epoch : 0 Loss = 253.24098280072212\n",
      "Epoch : 1 Loss = 163.7224245071411\n",
      "Epoch : 2 Loss = 149.61547349393368\n",
      "Epoch : 3 Loss = 142.02333343029022\n",
      "Epoch : 4 Loss = 137.37737406790257\n",
      "Epoch : 5 Loss = 133.8812749683857\n",
      "Epoch : 6 Loss = 131.2275441735983\n",
      "Epoch : 7 Loss = 129.49596537649632\n",
      "Epoch : 8 Loss = 127.50777560472488\n",
      "Epoch : 9 Loss = 126.27833095192909\n",
      "Epoch : 10 Loss = 124.55541989207268\n",
      "Epoch : 11 Loss = 123.9015490859747\n",
      "Epoch : 12 Loss = 122.88483473658562\n",
      "Epoch : 13 Loss = 122.15001398324966\n",
      "Epoch : 14 Loss = 121.0562402755022\n",
      "Epoch : 15 Loss = 119.88794632256031\n",
      "Epoch : 16 Loss = 120.01733477413654\n",
      "Epoch : 17 Loss = 119.37903579324484\n",
      "Epoch : 18 Loss = 118.56075666099787\n",
      "Epoch : 19 Loss = 118.1678211838007\n",
      "Epoch : 20 Loss = 117.80956696718931\n",
      "Epoch : 21 Loss = 117.03224430978298\n",
      "Epoch : 22 Loss = 116.72161714732647\n",
      "Epoch : 23 Loss = 115.98344153910875\n",
      "Epoch : 24 Loss = 116.48061088472605\n",
      "Epoch : 25 Loss = 114.8480065241456\n",
      "Epoch : 26 Loss = 116.74642723798752\n",
      "Epoch : 27 Loss = 113.89850500226021\n",
      "Epoch : 28 Loss = 114.87360022217035\n",
      "Epoch : 29 Loss = 114.36648653447628\n",
      "Epoch : 30 Loss = 113.9885219708085\n",
      "Epoch : 31 Loss = 114.03579461574554\n",
      "Epoch : 32 Loss = 113.4092990681529\n",
      "Epoch : 33 Loss = 113.9825434461236\n",
      "Epoch : 34 Loss = 112.94905333966017\n",
      "Epoch : 35 Loss = 113.14986404776573\n",
      "Epoch : 36 Loss = 111.6582642942667\n",
      "Epoch : 37 Loss = 112.7585472241044\n",
      "Epoch : 38 Loss = 112.8289627507329\n",
      "Epoch : 39 Loss = 111.1423012688756\n",
      "Accuracy : 0.9227\n"
     ]
    }
   ],
   "source": [
    "X = tf.placeholder(tf.float32, [batch_size, 784], name='X')\n",
    "y = tf.placeholder(tf.float32, [batch_size, 10], name='y')\n",
    "\n",
    "w = tf.Variable(tf.random_normal(shape=[784,10], stddev=0.01), name='weights')\n",
    "b = tf.Variable(tf.zeros([1,10]),name='bias')\n",
    "\n",
    "logits = tf.add(tf.matmul(X, w),b)\n",
    "entropy = tf.nn.softmax_cross_entropy_with_logits(logits=logits, labels=y, name='loss')\n",
    "loss = tf.reduce_mean(entropy)\n",
    "\n",
    "\n",
    "optimizer = tf.train.GradientDescentOptimizer(learning_rate).minimize(loss)\n",
    "\n",
    "with tf.Session() as s:\n",
    "    s.run(tf.global_variables_initializer())\n",
    "    n_batches = int(mnist.train.num_examples/batch_size)\n",
    "    for i in range(n_epochs):\n",
    "        total_loss = 0 \n",
    "        for _ in range(n_batches):\n",
    "            X_batch, y_batch = mnist.train.next_batch(batch_size)\n",
    "            _, loss_batch = s.run([optimizer, loss], feed_dict={X:X_batch, y:y_batch})\n",
    "            total_loss += loss_batch\n",
    "        print('Epoch : {} Loss = {}'.format(i,total_loss))\n",
    "        \n",
    "    n_batches = int(mnist.test.num_examples/batch_size)\n",
    "    total_correct_preds = 0 \n",
    "    for _ in range(n_batches):\n",
    "        X_batch, y_batch = mnist.test.next_batch(batch_size)\n",
    "        _, loss_batch, logits_batch = s.run([optimizer, loss, logits], feed_dict={X:X_batch, y:y_batch})\n",
    "        preds = tf.nn.softmax(logits_batch)\n",
    "        correct_pred = tf.equal(tf.argmax(preds,1), tf.argmax(y_batch, 1))\n",
    "        accuracy = tf.reduce_sum(tf.cast(correct_pred, tf.float32))\n",
    "        total_correct_preds += s.run(accuracy)\n",
    "    print('Accuracy :',total_correct_preds/mnist.test.num_examples)\n",
    "            \n",
    "    \n",
    "\n"
   ]
  },
  {
   "cell_type": "code",
   "execution_count": null,
   "metadata": {},
   "outputs": [],
   "source": []
  }
 ],
 "metadata": {
  "kernelspec": {
   "display_name": "Python 3",
   "language": "python",
   "name": "python3"
  },
  "language_info": {
   "codemirror_mode": {
    "name": "ipython",
    "version": 3
   },
   "file_extension": ".py",
   "mimetype": "text/x-python",
   "name": "python",
   "nbconvert_exporter": "python",
   "pygments_lexer": "ipython3",
   "version": "3.6.5"
  }
 },
 "nbformat": 4,
 "nbformat_minor": 2
}
